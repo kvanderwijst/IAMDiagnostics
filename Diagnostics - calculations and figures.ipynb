{
 "cells": [
  {
   "cell_type": "markdown",
   "metadata": {},
   "source": [
    "# Diagnostics: calculation and figures for paper"
   ]
  },
  {
   "cell_type": "code",
   "execution_count": null,
   "metadata": {},
   "outputs": [],
   "source": [
    "%load_ext autoreload\n",
    "%autoreload 2"
   ]
  },
  {
   "cell_type": "markdown",
   "metadata": {},
   "source": [
    "## Import and preprocess data"
   ]
  },
  {
   "cell_type": "code",
   "execution_count": null,
   "metadata": {},
   "outputs": [],
   "source": [
    "from utils.data.prepocessing import import_data\n",
    "from utils.data.meta import create_meta_df, create_model_df"
   ]
  },
  {
   "cell_type": "code",
   "execution_count": null,
   "metadata": {},
   "outputs": [],
   "source": [
    "manual_model_renames = {\"TIAM_Grantham_v3.2\": \"TIAM-Grantham_v3.2\"}\n",
    "data = import_data('navigate_snapshot_1616145055_bewerkt.csv', manual_model_renames)"
   ]
  },
  {
   "cell_type": "code",
   "execution_count": null,
   "metadata": {},
   "outputs": [],
   "source": [
    "# Create meta dataframe with basic information about each model/scenario\n",
    "# (which metric to use, etc.). More columns are added for each indicators value.\n",
    "meta = create_meta_df(data, 'Model_Versions&Types.xlsx')\n",
    "\n",
    "# Create a model dataframe with information used for plotting.\n",
    "# It contains one row per model and has an associated colour for\n",
    "# consistency between the plots\n",
    "models = create_model_df(meta)"
   ]
  },
  {
   "cell_type": "markdown",
   "metadata": {},
   "source": [
    "## Calculate the indicators for each model"
   ]
  },
  {
   "cell_type": "code",
   "execution_count": null,
   "metadata": {},
   "outputs": [],
   "source": [
    "from utils.indicators import (\n",
    "    relative_abatement_index,\n",
    "    carbint_over_enerint,\n",
    "    fossil_fuel_reduction,\n",
    "    inertia,\n",
    "    cost_abat_value,\n",
    ")"
   ]
  },
  {
   "cell_type": "code",
   "execution_count": null,
   "metadata": {},
   "outputs": [],
   "source": [
    "# Create new columns in the meta dataframe with the values of each indicator, as well as other relevant columns\n",
    "\n",
    "mute = True # If False, print the newly created column names\n",
    "\n",
    "meta = relative_abatement_index.create_columns(data, meta, mute=mute)\n",
    "meta = carbint_over_enerint.create_columns(data, meta, mute=mute)\n",
    "meta = fossil_fuel_reduction.create_columns(data, meta, mute=mute)\n",
    "meta = inertia.create_columns(data, meta, mute=mute)\n",
    "meta = cost_abat_value.create_columns(data, meta, mute=mute)"
   ]
  },
  {
   "cell_type": "markdown",
   "metadata": {},
   "source": [
    "$$RAI(t) = \\frac{CO_2\\text{FFI Base}(t)-CO_2\\text{FFI Pol}(t)}{CO_2\\text{FFI Base}(t)}$$"
   ]
  },
  {
   "cell_type": "markdown",
   "metadata": {},
   "source": [
    "$$\\text{CoEI}=\\frac{\\text{Res}(CI)}{\\text{Res}(EI)}$$"
   ]
  },
  {
   "cell_type": "markdown",
   "metadata": {},
   "source": [
    "$$\\text{FFR}(t)=\\frac{\\text{Prim.energy}_\\text{fossil}(2020) - \\text{Prim.energy}_\\text{fossil, pol}(t)}{\\text{Prim.energy}_\\text{fossil}(2020)}$$"
   ]
  },
  {
   "cell_type": "code",
   "execution_count": null,
   "metadata": {},
   "outputs": [],
   "source": [
    "meta.to_excel('Indicator values.xlsx')\n",
    "meta.head(2)"
   ]
  },
  {
   "cell_type": "markdown",
   "metadata": {},
   "source": [
    "## Create figures for each indicator"
   ]
  },
  {
   "cell_type": "code",
   "execution_count": null,
   "metadata": {},
   "outputs": [],
   "source": [
    "fig_RAI_2050 = relative_abatement_index.create_fig(meta, models, '2050', xrange=[-0.243, 0.922])\n",
    "fig_RAI_2050.show()\n",
    "fig_RAI_2100 = relative_abatement_index.create_fig(meta, models, '2100', exclude_models='GEM-E3|DNE21|PROMETHEUS')\n",
    "fig_RAI_2100.show()"
   ]
  },
  {
   "cell_type": "code",
   "execution_count": null,
   "metadata": {},
   "outputs": [],
   "source": [
    "kyoto_models = '|'.join(meta.loc[meta['Emissions_for_CAV'] != 'Emissions|Kyoto Gases', 'Stripped model'].unique())\n",
    "\n",
    "fig_RAI_2050_Kyoto = relative_abatement_index.create_fig(\n",
    "    meta, models,\n",
    "    '2050', \n",
    "    xrange=[-0.1024, 0.7700],\n",
    "    var_label='Kyoto', \n",
    "    exclude_models=kyoto_models,\n",
    "    narrative_left='Less GHG reduction', narrative_right='More GHG reduction'\n",
    ").update_xaxes(\n",
    "    title='Relative Abatement Index (Kyoto gases) in 2050'\n",
    ")\n",
    "\n",
    "fig_RAI_2100_Kyoto = relative_abatement_index.create_fig(\n",
    "    meta, models,\n",
    "    '2100', \n",
    "    var_label='Kyoto', \n",
    "    exclude_models=kyoto_models,\n",
    "    narrative_left='Less GHG reduction', narrative_right='More GHG reduction'\n",
    ").update_xaxes(\n",
    "    title='Relative Abatement Index (Kyoto gases) in 2100'\n",
    ")\n",
    "\n",
    "fig_RAI_2050_Kyoto.show()\n",
    "fig_RAI_2100_Kyoto.show()"
   ]
  },
  {
   "cell_type": "code",
   "execution_count": null,
   "metadata": {},
   "outputs": [],
   "source": [
    "fig_CoEI_2050 = carbint_over_enerint.create_fig(meta, models, '2050')\n",
    "fig_CoEI_2050.show()\n",
    "fig_CoEI_2100 = carbint_over_enerint.create_fig(meta, models, '2100', exclude_models='GEM-E3|DNE21|PROMETHEUS')\n",
    "fig_CoEI_2100.show()"
   ]
  },
  {
   "cell_type": "code",
   "execution_count": null,
   "metadata": {},
   "outputs": [],
   "source": [
    "fig_FFR_2050 = fossil_fuel_reduction.create_fig(meta, models, '2050')\n",
    "fig_FFR_2050.show()\n",
    "fig_FFR_2100 = fossil_fuel_reduction.create_fig(meta, models, '2100', exclude_models='GEM-E3|DNE21|PROMETHEUS', xrange=[-0.398, 1.107])\n",
    "fig_FFR_2100.show()"
   ]
  },
  {
   "cell_type": "code",
   "execution_count": null,
   "metadata": {},
   "outputs": [],
   "source": [
    "fig_IT_c30 = inertia.create_fig(meta, models, 'c30')\n",
    "fig_IT_c30.show()\n",
    "fig_IT_c80 = inertia.create_fig(meta, models, 'c80')\n",
    "fig_IT_c80.show()"
   ]
  },
  {
   "cell_type": "code",
   "execution_count": null,
   "metadata": {},
   "outputs": [],
   "source": [
    "\n",
    "fig_CAV_2050 = cost_abat_value.create_fig(meta, models, '2050')\n",
    "fig_CAV_2050.show()\n",
    "fig_CAV_2100 = cost_abat_value.create_fig(meta, models, '2100', exclude_models='GEM-E3|DNE21|PROMETHEUS')\n",
    "fig_CAV_2100.show()"
   ]
  },
  {
   "cell_type": "markdown",
   "metadata": {},
   "source": [
    "## Save all figures"
   ]
  },
  {
   "cell_type": "code",
   "execution_count": null,
   "metadata": {
    "scrolled": false
   },
   "outputs": [],
   "source": [
    "fig_RAI_2050.write_image('output/fig1_RAI_2050.png', scale=4)\n",
    "fig_CoEI_2050.write_image('output/fig2_CoEI_2050.png', scale=4)\n",
    "fig_FFR_2050.write_image('output/fig3_FFR_2050.png', scale=4)\n",
    "fig_IT_c80.write_image('output/fig4_IT_c80.png', scale=4)\n",
    "fig_CAV_2050.write_image('output/fig5_CAV_2050.png', scale=4)"
   ]
  },
  {
   "cell_type": "code",
   "execution_count": null,
   "metadata": {
    "scrolled": false
   },
   "outputs": [],
   "source": [
    "fig_RAI_2100.write_image('output/fig1_RAI_2100.png', scale=4)\n",
    "fig_CoEI_2100.write_image('output/fig2_CoEI_2100.png', scale=4)\n",
    "fig_FFR_2100.write_image('output/fig3_FFR_2100.png', scale=4)\n",
    "fig_IT_c30.write_image('output/fig4_IT_c30.png', scale=4)\n",
    "fig_CAV_2100.write_image('output/fig5_CAV_2100.png', scale=4)"
   ]
  },
  {
   "cell_type": "code",
   "execution_count": null,
   "metadata": {},
   "outputs": [],
   "source": [
    "fig_RAI_2050_Kyoto.write_image('output/fig1_RAI_2050_Kyoto.png', scale=4)\n",
    "fig_RAI_2100_Kyoto.write_image('output/fig1_RAI_2100_Kyoto.png', scale=4)"
   ]
  },
  {
   "cell_type": "code",
   "execution_count": null,
   "metadata": {},
   "outputs": [],
   "source": [
    "fig_RAI_2050.write_image('output/fig1_RAI_2050.pdf')\n",
    "fig_CoEI_2050.write_image('output/fig2_CoEI_2050.pdf')\n",
    "fig_FFR_2050.write_image('output/fig3_FFR_2050.pdf')\n",
    "fig_IT_c80.write_image('output/fig4_IT_c80.pdf')\n",
    "fig_CAV_2050.write_image('output/fig5_CAV_2050.pdf')\n",
    "fig_RAI_2100.write_image('output/fig1_RAI_2100.pdf')\n",
    "fig_CoEI_2100.write_image('output/fig2_CoEI_2100.pdf')\n",
    "fig_FFR_2100.write_image('output/fig3_FFR_2100.pdf')\n",
    "fig_IT_c30.write_image('output/fig4_IT_c30.pdf')\n",
    "fig_CAV_2100.write_image('output/fig5_CAV_2100.pdf')\n",
    "fig_RAI_2050_Kyoto.write_image('output/fig1_RAI_2050_Kyoto.pdf')\n",
    "fig_RAI_2100_Kyoto.write_image('output/fig1_RAI_2100_Kyoto.pdf')"
   ]
  },
  {
   "cell_type": "code",
   "execution_count": null,
   "metadata": {},
   "outputs": [],
   "source": []
  }
 ],
 "metadata": {
  "interpreter": {
   "hash": "191550108d721b5779014c0137c9a5b7861e8885f56e39d4dc88b2ae715939e0"
  },
  "kernelspec": {
   "display_name": "Python 3.7.4 64-bit ('base': conda)",
   "language": "python",
   "name": "python3"
  },
  "language_info": {
   "codemirror_mode": {
    "name": "ipython",
    "version": 3
   },
   "file_extension": ".py",
   "mimetype": "text/x-python",
   "name": "python",
   "nbconvert_exporter": "python",
   "pygments_lexer": "ipython3",
   "version": "3.7.4"
  },
  "orig_nbformat": 4
 },
 "nbformat": 4,
 "nbformat_minor": 2
}
